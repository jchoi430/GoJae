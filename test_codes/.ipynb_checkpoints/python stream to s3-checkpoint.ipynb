{
 "cells": [
  {
   "cell_type": "code",
   "execution_count": 4,
   "id": "excellent-transition",
   "metadata": {},
   "outputs": [],
   "source": [
    "import requests\n",
    "import boto3\n",
    "\n",
    "url = \"https://en.wikipedia.org/wiki/Amazon_Web_Services#/media/File:Amazon_Web_Services_Logo.svg\"\n",
    "\n",
    "session = boto3.Session(profile_name='dr', region_name='us-east-1')\n",
    "client = session.client('s3', 'us-east-1')\n",
    "\n",
    "bucket_name = 'jae-demo-bucket'\n",
    "key = 'demo3/Amazon_Web_Services_Logo.svg'\n",
    "\n",
    "with requests.get(url, stream=True) as response:\n",
    "        client.upload_fileobj(response.raw, bucket_name, key)\n"
   ]
  },
  {
   "cell_type": "markdown",
   "id": "friendly-colors",
   "metadata": {},
   "source": []
  }
 ],
 "metadata": {
  "kernelspec": {
   "display_name": "Python 3",
   "language": "python",
   "name": "python3"
  },
  "language_info": {
   "codemirror_mode": {
    "name": "ipython",
    "version": 3
   },
   "file_extension": ".py",
   "mimetype": "text/x-python",
   "name": "python",
   "nbconvert_exporter": "python",
   "pygments_lexer": "ipython3",
   "version": "3.7.9"
  }
 },
 "nbformat": 4,
 "nbformat_minor": 5
}
